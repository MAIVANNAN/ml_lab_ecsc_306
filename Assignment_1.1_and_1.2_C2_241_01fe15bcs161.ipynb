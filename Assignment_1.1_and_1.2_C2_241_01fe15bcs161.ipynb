{
 "cells": [
  {
   "cell_type": "code",
   "execution_count": 1,
   "metadata": {},
   "outputs": [
    {
     "name": "stdout",
     "output_type": "stream",
     "text": [
      "Enter value of a : 5\n",
      "Enter value of b : 3\n",
      "a  = 5\n",
      "b  = 3\n",
      "solution = Tensor(\"solution/Sub:0\", shape=(), dtype=int32)\n",
      "4\n"
     ]
    }
   ],
   "source": [
    "# LAB 1 ASSIGNMENT \n",
    "#!/usr/bin/python\n",
    "# solve the quadratic equation (a+b)^2=(a*a)+(b*b)-2*a*b \n",
    "import math as m\n",
    "import tensorflow as tf \n",
    "\n",
    "def input_integer(prompt=''):\n",
    "    while True:\n",
    "        try:\n",
    "            n = int(input(prompt))\n",
    "            if n <= 0:\n",
    "                raise ValueError\n",
    "            break\n",
    "        except ValueError:\n",
    "            print (\"Invalid input.\")\n",
    "            prompt = (\"Please enter a positive integer: \")\n",
    "    return n\n",
    "\n",
    "a = input_integer(\"Enter value of a : \")\n",
    "b = input_integer(\"Enter value of b : \")\n",
    "print (\"a  =\",a)\n",
    "print (\"b  =\",b)\n",
    "with tf.name_scope(\"a2\"):\n",
    "          p1=tf.multiply(a,a)\n",
    "with tf.name_scope(\"b2\"):\n",
    "        p2=tf.multiply(b,b)\n",
    "with tf.name_scope(\"2ab\"):\n",
    "        p3=tf.multiply(a,b)\n",
    "        j=2\n",
    "        p4=tf.multiply(j,p3)\n",
    "        \n",
    "with tf.name_scope(\"solution\"):\n",
    "    sol=tf.add(p1,p2)\n",
    "    sol2=tf.subtract(sol,p4)\n",
    "print (\"solution =\" , sol2)\n",
    "\n",
    "with tf.Session() as sess:\n",
    "    writer = tf.summary.FileWriter(\"/tmp/tboard/output_1.1\", sess.graph)\n",
    "    print(sess.run(sol2))\n",
    "    writer.close()\n",
    "\n"
   ]
  },
  {
   "cell_type": "code",
   "execution_count": 1,
   "metadata": {},
   "outputs": [
    {
     "name": "stdout",
     "output_type": "stream",
     "text": [
      "Enter value of a : 5\n",
      "Enter value of b : 3\n",
      "a  = 5\n",
      "b  = 3\n",
      "512\n"
     ]
    }
   ],
   "source": [
    "# LAB 1 ASSIGNMENT \n",
    "#!/usr/bin/python\n",
    "# solve the quadratic equation (a+b)^2=(a*a)+(b*b)-2*a*b \n",
    "import math as m\n",
    "import tensorflow as tf \n",
    "\n",
    "def input_integer(prompt=''):\n",
    "    while True:\n",
    "        try:\n",
    "            n = int(input(prompt))\n",
    "            if n <= 0:\n",
    "                raise ValueError\n",
    "            break\n",
    "        except ValueError:\n",
    "            print (\"Invalid input.\")\n",
    "            prompt = (\"Please enter a positive integer: \")\n",
    "    return n\n",
    "\n",
    "a = input_integer(\"Enter value of a : \")\n",
    "b = input_integer(\"Enter value of b : \")\n",
    "print (\"a  =\",a)\n",
    "print (\"b  =\",b)\n",
    "with tf.name_scope(\"a3\"):\n",
    "        x = tf.multiply(a,a)\n",
    "        p1 = tf.multiply(x,a)\n",
    "with tf.name_scope(\"b3\"):\n",
    "        c = tf.multiply(b,b)\n",
    "        p2 = tf.multiply(b,c)\n",
    "with tf.name_scope(\"3ab\"):\n",
    "        p3 = tf.multiply(a,b)\n",
    "        k = 3\n",
    "        p4= tf.multiply(k,p3)\n",
    "        p5= tf.add(a,b)\n",
    "        p6= tf.multiply(p4,p5)\n",
    "        \n",
    "with tf.name_scope(\"solution\"):\n",
    "    sol = tf.add(p1,p2)\n",
    "    sol2 = tf.add(sol,p6)\n",
    "\n",
    "with tf.Session() as sess:\n",
    "    writer = tf.summary.FileWriter(\"/tmp/tboard/output_1.2\", sess.graph)\n",
    "    print(sess.run(sol2))\n",
    "    writer.close()"
   ]
  },
  {
   "cell_type": "code",
   "execution_count": null,
   "metadata": {
    "collapsed": true
   },
   "outputs": [],
   "source": []
  },
  {
   "cell_type": "code",
   "execution_count": null,
   "metadata": {
    "collapsed": true
   },
   "outputs": [],
   "source": []
  },
  {
   "cell_type": "code",
   "execution_count": null,
   "metadata": {
    "collapsed": true
   },
   "outputs": [],
   "source": []
  }
 ],
 "metadata": {
  "kernelspec": {
   "display_name": "Python 3",
   "language": "python",
   "name": "python3"
  },
  "language_info": {
   "codemirror_mode": {
    "name": "ipython",
    "version": 3
   },
   "file_extension": ".py",
   "mimetype": "text/x-python",
   "name": "python",
   "nbconvert_exporter": "python",
   "pygments_lexer": "ipython3",
   "version": "3.6.1"
  }
 },
 "nbformat": 4,
 "nbformat_minor": 2
}
