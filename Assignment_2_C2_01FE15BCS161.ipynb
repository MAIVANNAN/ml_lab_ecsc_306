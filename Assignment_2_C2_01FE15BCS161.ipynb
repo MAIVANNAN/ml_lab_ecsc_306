{
 "cells": [
  {
   "cell_type": "code",
   "execution_count": 33,
   "metadata": {},
   "outputs": [
    {
     "name": "stdout",
     "output_type": "stream",
     "text": [
      "mean of x  3\n",
      "mean of y  35\n"
     ]
    }
   ],
   "source": [
    "# calculate mean of x and y\n",
    "\n",
    "import tensorflow as tf\n",
    "\n",
    "array1=tf.constant([1,2,3,4,5,6])\n",
    "array2=tf.constant([10,20,30,40,50,60])\n",
    "\n",
    "\n",
    "mean_x=tf.reduce_mean(array1)\n",
    "mean_y=tf.reduce_mean(array2)\n",
    "\n",
    "with tf.Session() as ss:\n",
    "    output = ss.run(mean_x)\n",
    "    output1=ss.run(mean_y)\n",
    "print (\"mean of x \",output)\n",
    "print(\"mean of y \",output2)\n"
   ]
  },
  {
   "cell_type": "code",
   "execution_count": 53,
   "metadata": {},
   "outputs": [
    {
     "name": "stdout",
     "output_type": "stream",
     "text": [
      "variance of x  19\n"
     ]
    }
   ],
   "source": [
    "# calculate variance of x\n",
    "x=tf.subtract(array1,mean_x)\n",
    "y=tf.subtract(array2,mean_y)\n",
    "\n",
    "sqr1=tf.square(x)\n",
    "sqr2=tf.square(y)\n",
    "\n",
    "v1=tf.reduce_sum(sqr1)\n",
    "v2=tf.reduce_sum(sqr2)\n",
    "\n",
    "with tf.Session() as ss:\n",
    "    output = ss.run(v1)\n",
    "print (\"variance of x \",output)\n",
    "\n"
   ]
  },
  {
   "cell_type": "code",
   "execution_count": 52,
   "metadata": {},
   "outputs": [
    {
     "name": "stdout",
     "output_type": "stream",
     "text": [
      "value of covariance  175\n",
      "value of m is 9\n",
      "value of c 8\n"
     ]
    }
   ],
   "source": [
    "\n",
    "# calculate covariance of x and y\n",
    "tmp=tf.multiply(x,y)\n",
    "covariance=tf.reduce_sum(tmp)\n",
    "with tf.Session() as ss:\n",
    "    print (\"value of covariance \",ss.run(covariance))\n",
    "\n",
    "# calculate value of m\n",
    "#m = covariance(x,y)/variance(x)\n",
    "m=tf.div(covariance,v1)\n",
    "with tf.Session() as ss:\n",
    "    print (\"value of m is\",ss.run(m))\n",
    "\n",
    "# calculate value of c \n",
    "#c = mean(y) -m* mean(x)\n",
    "tmp2=tf.multiply(m,mean_x)\n",
    "c=tf.subtract(mean_y,tmp2)\n",
    "with tf.Session() as ss:\n",
    " print (\"value of c\",ss.run(c))"
   ]
  },
  {
   "cell_type": "code",
   "execution_count": null,
   "metadata": {
    "collapsed": true
   },
   "outputs": [],
   "source": []
  }
 ],
 "metadata": {
  "kernelspec": {
   "display_name": "Python 3",
   "language": "python",
   "name": "python3"
  },
  "language_info": {
   "codemirror_mode": {
    "name": "ipython",
    "version": 3
   },
   "file_extension": ".py",
   "mimetype": "text/x-python",
   "name": "python",
   "nbconvert_exporter": "python",
   "pygments_lexer": "ipython3",
   "version": "3.6.1"
  }
 },
 "nbformat": 4,
 "nbformat_minor": 2
}
